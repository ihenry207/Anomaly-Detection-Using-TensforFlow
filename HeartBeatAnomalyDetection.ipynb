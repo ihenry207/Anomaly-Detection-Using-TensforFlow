{
  "nbformat": 4,
  "nbformat_minor": 0,
  "metadata": {
    "colab": {
      "provenance": [],
      "mount_file_id": "1ECGE-la4nZrHkhyq_vasmPKONInbrfFo",
      "authorship_tag": "ABX9TyMBFmd+6wDuBnDwF+o5otnU",
      "include_colab_link": true
    },
    "kernelspec": {
      "name": "python3",
      "display_name": "Python 3"
    },
    "language_info": {
      "name": "python"
    }
  },
  "cells": [
    {
      "cell_type": "markdown",
      "metadata": {
        "id": "view-in-github",
        "colab_type": "text"
      },
      "source": [
        "<a href=\"https://colab.research.google.com/github/ihenry207/Anomaly-Detection-Using-TensforFlow/blob/main/HeartBeatAnomalyDetection.ipynb\" target=\"_parent\"><img src=\"https://colab.research.google.com/assets/colab-badge.svg\" alt=\"Open In Colab\"/></a>"
      ]
    },
    {
      "cell_type": "code",
      "source": [
        "from google.colab import drive\n",
        "drive.mount('/content/drive')"
      ],
      "metadata": {
        "colab": {
          "base_uri": "https://localhost:8080/"
        },
        "id": "LgQGGUu0Rpvv",
        "outputId": "af87c2a4-f450-4c65-d2bd-153370c9a1aa"
      },
      "execution_count": 1,
      "outputs": [
        {
          "output_type": "stream",
          "name": "stdout",
          "text": [
            "Drive already mounted at /content/drive; to attempt to forcibly remount, call drive.mount(\"/content/drive\", force_remount=True).\n"
          ]
        }
      ]
    },
    {
      "cell_type": "code",
      "execution_count": 2,
      "metadata": {
        "id": "fLdq9OzrKhLl"
      },
      "outputs": [],
      "source": [
        "\n",
        "import pandas as pd\n",
        "import matplotlib as mpl\n",
        "import matplotlib.pyplot as plt\n",
        "\n",
        "import tensorflow as tf\n",
        "from tensorflow.keras.models import Model\n",
        "import numpy as np\n",
        "\n",
        "from sklearn.model_selection import train_test_split #used for spliting the data\n",
        "from sklearn.preprocessing import MinMaxScaler, StandardScaler\n",
        "\n",
        "#mpl.rc_params['figure.figsize'] = (10, 8)\n",
        "#mpl.rcParams['axes.grid'] = False"
      ]
    },
    {
      "cell_type": "code",
      "source": [
        "# Define the file names\n",
        "test_file = '/content/drive/MyDrive/ECG5000/ECG5000_TEST.txt'\n",
        "train_file = '/content/drive/MyDrive/ECG5000/ECG5000_TRAIN.txt'\n",
        "output_file = '/content/drive/MyDrive/ECG5000/ECG5000.txt'\n"
      ],
      "metadata": {
        "id": "hBQpCR6ir3w-"
      },
      "execution_count": 8,
      "outputs": []
    },
    {
      "cell_type": "code",
      "source": [
        "# Open the two input files in read mode and the output file in write mode\n",
        "with open(test_file, 'r') as test_f, open(train_file, 'r') as train_f, open(output_file, 'w') as output_f:\n",
        "    # Read the contents of the first file (test.txt) and write them to the output file\n",
        "    output_f.write(test_f.read())\n",
        "\n",
        "    # Add a newline character to separate the contents of the two files\n",
        "    output_f.write('\\n')\n",
        "\n",
        "    # Read the contents of the second file (train.txt) and write them to the output file\n",
        "    output_f.write(train_f.read())\n",
        "\n",
        "# Inform the user that the files have been concatenated\n",
        "#print(f\"Concatenated {test_file} and {train_file} into {output_file}.\")"
      ],
      "metadata": {
        "id": "XS-dQ4aUr4nO"
      },
      "execution_count": 9,
      "outputs": []
    },
    {
      "cell_type": "code",
      "source": [
        "df = pd.read_csv('/content/drive/MyDrive/ECG5000/ECG5000.txt', sep = '  ', header = None)\n",
        "df.head"
      ],
      "metadata": {
        "colab": {
          "base_uri": "https://localhost:8080/"
        },
        "id": "SJy_8UH6skeO",
        "outputId": "c7681e2e-bef7-43f8-a115-f28869ae14fc"
      },
      "execution_count": 10,
      "outputs": [
        {
          "output_type": "stream",
          "name": "stderr",
          "text": [
            "<ipython-input-10-d9e1a48906ba>:1: ParserWarning: Falling back to the 'python' engine because the 'c' engine does not support regex separators (separators > 1 char and different from '\\s+' are interpreted as regex); you can avoid this warning by specifying engine='python'.\n",
            "  df = pd.read_csv('/content/drive/MyDrive/ECG5000/ECG5000.txt', sep = '  ', header = None)\n"
          ]
        },
        {
          "output_type": "execute_result",
          "data": {
            "text/plain": [
              "<bound method NDFrame.head of       0         1         2         3         4         5         6    \\\n",
              "0     1.0  3.690844  0.711414 -2.114091 -4.141007 -4.574472 -3.431909   \n",
              "1     1.0 -1.348132 -3.996038 -4.226750 -4.251187 -3.477953 -2.228422   \n",
              "2     1.0  1.024295 -0.590314 -1.916949 -2.806989 -3.527905 -3.638675   \n",
              "3     1.0  0.545657 -1.014383 -2.316698 -3.634040 -4.196857 -3.758093   \n",
              "4     1.0  0.661133 -1.552471 -3.124641 -4.313351 -4.017042 -3.005993   \n",
              "...   ...       ...       ...       ...       ...       ...       ...   \n",
              "4995  4.0 -0.478577 -1.779959 -2.398159 -3.170112 -3.559732 -3.573956   \n",
              "4996  4.0 -1.325210 -2.480992 -2.965356 -3.342392 -3.176351 -2.891528   \n",
              "4997  4.0 -0.021964 -0.912434 -1.903353 -2.662829 -3.122156 -3.451490   \n",
              "4998  5.0  0.288011 -1.098020 -2.500250 -3.598599 -3.650608 -3.281587   \n",
              "4999  5.0 -1.133674 -2.702941 -3.120979 -3.558669 -3.312442 -2.607641   \n",
              "\n",
              "           7         8         9    ...       131       132       133  \\\n",
              "0    -1.950791 -1.107067 -0.632322  ... -0.032477  0.022847  0.188937   \n",
              "1    -1.808488 -1.534242 -0.779861  ...  0.937984  1.570938  1.591394   \n",
              "2    -2.779767 -2.019031 -1.980754  ...  0.368820  0.443502  0.827582   \n",
              "3    -3.194444 -2.221764 -1.588554  ...  0.894638  0.777530  1.119240   \n",
              "4    -1.832411 -1.503886 -1.071705  ...  1.416582  1.280823  1.494315   \n",
              "...        ...       ...       ...  ...       ...       ...       ...   \n",
              "4995 -2.989770 -2.270605 -1.688277  ...  1.294840  1.160885  1.456331   \n",
              "4996 -2.369679 -1.598750 -1.071751  ...  0.552076 -0.172154 -0.864803   \n",
              "4997 -3.392982 -2.929937 -2.256294  ...  1.528745  1.339479  1.457995   \n",
              "4998 -2.231601 -1.250656 -1.072574  ...  0.081634 -0.029242  0.071414   \n",
              "4999 -1.354939 -1.014740 -0.796023  ... -2.886340 -3.206942 -2.941677   \n",
              "\n",
              "           134       135       136       137       138       139       140  \n",
              "0     0.480932  0.629250  0.577291  0.665527  1.035997  1.492287 -1.905073  \n",
              "1     1.549193  1.193077  0.515134  0.126274  0.267532  1.071148 -1.164009  \n",
              "2     1.237007  1.235121  1.738103  1.800767  1.816301  1.473963  1.389767  \n",
              "3     0.902984  0.554098  0.497053  0.418116  0.703108  1.064602 -0.044853  \n",
              "4     1.618764  1.447449  1.238577  1.749692  1.986803  1.422756 -0.357784  \n",
              "...        ...       ...       ...       ...       ...       ...       ...  \n",
              "4995  2.209421  2.507175  2.198534  1.705849  1.492642  1.561890  1.520161  \n",
              "4996 -1.549854 -2.460243 -3.366562 -3.466546 -2.718380 -1.855209 -1.539958  \n",
              "4997  2.128078  2.630759  2.295748  1.764967  1.444280  1.432347  1.457028  \n",
              "4998  0.118161 -0.071967 -0.171214  0.131211  0.049872  0.010915 -0.081534  \n",
              "4999 -2.557140 -1.487946 -1.118880 -0.737113 -0.110840  0.001858 -0.122639  \n",
              "\n",
              "[5000 rows x 141 columns]>"
            ]
          },
          "metadata": {},
          "execution_count": 10
        }
      ]
    },
    {
      "cell_type": "code",
      "source": [
        "#!wget https://www.timeseriesclassification.com/Downloads/ECG5000.zip\n",
        "#!unzip ECG5000.zip"
      ],
      "metadata": {
        "colab": {
          "base_uri": "https://localhost:8080/"
        },
        "id": "5jrKZMLwMCGw",
        "outputId": "58d7e361-8dd6-4627-ca1b-90282174db77"
      },
      "execution_count": 3,
      "outputs": [
        {
          "output_type": "stream",
          "name": "stdout",
          "text": [
            "--2023-08-27 15:42:53--  https://www.timeseriesclassification.com/Downloads/ECG5000.zip\n",
            "Resolving www.timeseriesclassification.com (www.timeseriesclassification.com)... 109.123.71.232\n",
            "Connecting to www.timeseriesclassification.com (www.timeseriesclassification.com)|109.123.71.232|:443... connected.\n",
            "HTTP request sent, awaiting response... 200 OK\n",
            "Length: unspecified [text/html]\n",
            "Saving to: ‘ECG5000.zip’\n",
            "\n",
            "ECG5000.zip             [ <=>                ]  20.85K  --.-KB/s    in 0.1s    \n",
            "\n",
            "2023-08-27 15:42:54 (217 KB/s) - ‘ECG5000.zip’ saved [21350]\n",
            "\n",
            "Archive:  ECG5000.zip\n",
            "  End-of-central-directory signature not found.  Either this file is not\n",
            "  a zipfile, or it constitutes one disk of a multi-part archive.  In the\n",
            "  latter case the central directory and zipfile comment will be found on\n",
            "  the last disk(s) of this archive.\n",
            "unzip:  cannot find zipfile directory in one of ECG5000.zip or\n",
            "        ECG5000.zip.zip, and cannot find ECG5000.zip.ZIP, period.\n"
          ]
        }
      ]
    },
    {
      "cell_type": "code",
      "source": [
        "#!ls -arlt"
      ],
      "metadata": {
        "colab": {
          "base_uri": "https://localhost:8080/"
        },
        "id": "Bguq8MQAM9v_",
        "outputId": "1f62682a-7892-49b3-ee47-51f7aab0d604"
      },
      "execution_count": 4,
      "outputs": [
        {
          "output_type": "stream",
          "name": "stdout",
          "text": [
            "total 44\n",
            "drwxr-xr-x 4 root root  4096 Aug 24 21:24 .config\n",
            "drwxr-xr-x 1 root root  4096 Aug 24 21:25 sample_data\n",
            "drwxr-xr-x 1 root root  4096 Aug 27 15:42 ..\n",
            "drwx------ 5 root root  4096 Aug 27 15:42 drive\n",
            "drwxr-xr-x 1 root root  4096 Aug 27 15:42 .\n",
            "-rw-r--r-- 1 root root 21350 Aug 27 15:42 ECG5000.zip\n"
          ]
        }
      ]
    },
    {
      "cell_type": "code",
      "source": [
        "#concantenating both the train and test into a single dataset\n",
        "#!cat ECG5000_TRAIN.txt ECG5000_TEST.txt > ecg_final.txt\n"
      ],
      "metadata": {
        "id": "8c3N4NTYNYm2",
        "colab": {
          "base_uri": "https://localhost:8080/"
        },
        "outputId": "af9aa971-9a23-4152-fe7c-314f3effe487"
      },
      "execution_count": 5,
      "outputs": [
        {
          "output_type": "stream",
          "name": "stdout",
          "text": [
            "cat: ECG5000_TRAIN.txt: No such file or directory\n",
            "cat: ECG5000_TEST.txt: No such file or directory\n"
          ]
        }
      ]
    },
    {
      "cell_type": "code",
      "source": [
        "#printinf the top few records of the file\n",
        "#!head ecg_final.txt"
      ],
      "metadata": {
        "id": "IKVW2XbHNYhB"
      },
      "execution_count": 6,
      "outputs": []
    },
    {
      "cell_type": "code",
      "source": [
        "#printing the column names\n",
        "df.columns"
      ],
      "metadata": {
        "id": "E3DwouoyOGwb",
        "colab": {
          "base_uri": "https://localhost:8080/"
        },
        "outputId": "1732e101-2e89-4157-c68d-164d29ad3980"
      },
      "execution_count": 11,
      "outputs": [
        {
          "output_type": "execute_result",
          "data": {
            "text/plain": [
              "Int64Index([  0,   1,   2,   3,   4,   5,   6,   7,   8,   9,\n",
              "            ...\n",
              "            131, 132, 133, 134, 135, 136, 137, 138, 139, 140],\n",
              "           dtype='int64', length=141)"
            ]
          },
          "metadata": {},
          "execution_count": 11
        }
      ]
    },
    {
      "cell_type": "code",
      "source": [
        "df = df.add_prefix('c')"
      ],
      "metadata": {
        "id": "Xn8x4ompOGz-"
      },
      "execution_count": 12,
      "outputs": []
    },
    {
      "cell_type": "code",
      "source": [
        "df.columns"
      ],
      "metadata": {
        "id": "mWAc2KUZaw1d",
        "colab": {
          "base_uri": "https://localhost:8080/"
        },
        "outputId": "47e7cfcb-f514-4fb9-c5e5-e7e2023f7baf"
      },
      "execution_count": 13,
      "outputs": [
        {
          "output_type": "execute_result",
          "data": {
            "text/plain": [
              "Index(['c0', 'c1', 'c2', 'c3', 'c4', 'c5', 'c6', 'c7', 'c8', 'c9',\n",
              "       ...\n",
              "       'c131', 'c132', 'c133', 'c134', 'c135', 'c136', 'c137', 'c138', 'c139',\n",
              "       'c140'],\n",
              "      dtype='object', length=141)"
            ]
          },
          "metadata": {},
          "execution_count": 13
        }
      ]
    },
    {
      "cell_type": "code",
      "source": [
        "df['c0'].value_counts()"
      ],
      "metadata": {
        "id": "SYAWAsPPOG3d",
        "colab": {
          "base_uri": "https://localhost:8080/"
        },
        "outputId": "da070d65-92e9-454c-d5fb-8178e5f6b19b"
      },
      "execution_count": 14,
      "outputs": [
        {
          "output_type": "execute_result",
          "data": {
            "text/plain": [
              "1.0    2919\n",
              "2.0    1767\n",
              "4.0     194\n",
              "3.0      96\n",
              "5.0      24\n",
              "Name: c0, dtype: int64"
            ]
          },
          "metadata": {},
          "execution_count": 14
        }
      ]
    },
    {
      "cell_type": "code",
      "source": [
        "df.describe()"
      ],
      "metadata": {
        "id": "XBNSia0-bGV9",
        "colab": {
          "base_uri": "https://localhost:8080/",
          "height": 349
        },
        "outputId": "47031d3e-4f15-4364-d6b4-c3ad7089bbe8"
      },
      "execution_count": 15,
      "outputs": [
        {
          "output_type": "execute_result",
          "data": {
            "text/plain": [
              "                c0           c1           c2           c3           c4  \\\n",
              "count  5000.000000  5000.000000  5000.000000  5000.000000  5000.000000   \n",
              "mean      1.527400    -0.262476    -1.649511    -2.492211    -3.119443   \n",
              "std       0.760372     1.152369     1.445493     1.386409     1.302802   \n",
              "min       1.000000    -6.729499    -7.090374    -5.132459    -5.363241   \n",
              "25%       1.000000    -1.004511    -2.701576    -3.668096    -4.227247   \n",
              "50%       1.000000    -0.297541    -1.661892    -2.585677    -3.387934   \n",
              "75%       2.000000     0.500061    -0.677290    -1.513964    -2.235369   \n",
              "max       5.000000     4.966414     3.479689     2.660597     1.899798   \n",
              "\n",
              "                c5           c6           c7           c8           c9  ...  \\\n",
              "count  5000.000000  5000.000000  5000.000000  5000.000000  5000.000000  ...   \n",
              "mean     -3.167438    -2.866308    -2.273126    -1.798127    -1.410124  ...   \n",
              "std       1.104382     0.906133     0.731627     0.623100     0.637149  ...   \n",
              "min      -5.375715    -5.330194    -4.782240    -4.311288    -4.071361  ...   \n",
              "25%      -4.007470    -3.480479    -2.779941    -2.165851    -1.774124  ...   \n",
              "50%      -3.468718    -2.947061    -2.285578    -1.750157    -1.422570  ...   \n",
              "75%      -2.530967    -2.398813    -1.823494    -1.484923    -1.063708  ...   \n",
              "max       2.147015     1.614375     1.868728     1.804251     1.683730  ...   \n",
              "\n",
              "              c131         c132         c133         c134         c135  \\\n",
              "count  5000.000000  5000.000000  5000.000000  5000.000000  5000.000000   \n",
              "mean      0.146319     0.070973    -0.062914    -0.276206    -0.507667   \n",
              "std       1.171299     1.404842     1.646585     1.895134     2.059758   \n",
              "min      -3.971715    -4.167040    -4.557576    -4.530488    -4.563270   \n",
              "25%      -0.655753    -1.089300    -1.588885    -2.147449    -2.731550   \n",
              "50%       0.473642     0.658318     0.717808     0.604747     0.334857   \n",
              "75%       1.062134     1.169420     1.238687     1.264471     1.234433   \n",
              "max       2.960969     3.007606     2.854680     2.912394     2.937685   \n",
              "\n",
              "              c136         c137         c138         c139         c140  \n",
              "count  5000.000000  5000.000000  5000.000000  5000.000000  5000.000000  \n",
              "mean     -0.761043    -0.834741    -0.642263    -0.487242    -0.706008  \n",
              "std       2.086218     2.056220     1.859296     1.830987     1.414465  \n",
              "min      -5.150100    -4.880460    -5.496107    -5.880890    -6.092227  \n",
              "25%      -3.030509    -2.868331    -2.153513    -1.657771    -1.596692  \n",
              "50%      -0.030767    -0.195151    -0.194423    -0.160262    -0.565588  \n",
              "75%       1.034584     0.945237     0.951681     1.002692     0.272012  \n",
              "max       3.351437     3.432519     3.579448     4.425976     7.402103  \n",
              "\n",
              "[8 rows x 141 columns]"
            ],
            "text/html": [
              "\n",
              "  <div id=\"df-4a7fa6eb-6ab3-45b6-85da-5bd76d9c09d1\" class=\"colab-df-container\">\n",
              "    <div>\n",
              "<style scoped>\n",
              "    .dataframe tbody tr th:only-of-type {\n",
              "        vertical-align: middle;\n",
              "    }\n",
              "\n",
              "    .dataframe tbody tr th {\n",
              "        vertical-align: top;\n",
              "    }\n",
              "\n",
              "    .dataframe thead th {\n",
              "        text-align: right;\n",
              "    }\n",
              "</style>\n",
              "<table border=\"1\" class=\"dataframe\">\n",
              "  <thead>\n",
              "    <tr style=\"text-align: right;\">\n",
              "      <th></th>\n",
              "      <th>c0</th>\n",
              "      <th>c1</th>\n",
              "      <th>c2</th>\n",
              "      <th>c3</th>\n",
              "      <th>c4</th>\n",
              "      <th>c5</th>\n",
              "      <th>c6</th>\n",
              "      <th>c7</th>\n",
              "      <th>c8</th>\n",
              "      <th>c9</th>\n",
              "      <th>...</th>\n",
              "      <th>c131</th>\n",
              "      <th>c132</th>\n",
              "      <th>c133</th>\n",
              "      <th>c134</th>\n",
              "      <th>c135</th>\n",
              "      <th>c136</th>\n",
              "      <th>c137</th>\n",
              "      <th>c138</th>\n",
              "      <th>c139</th>\n",
              "      <th>c140</th>\n",
              "    </tr>\n",
              "  </thead>\n",
              "  <tbody>\n",
              "    <tr>\n",
              "      <th>count</th>\n",
              "      <td>5000.000000</td>\n",
              "      <td>5000.000000</td>\n",
              "      <td>5000.000000</td>\n",
              "      <td>5000.000000</td>\n",
              "      <td>5000.000000</td>\n",
              "      <td>5000.000000</td>\n",
              "      <td>5000.000000</td>\n",
              "      <td>5000.000000</td>\n",
              "      <td>5000.000000</td>\n",
              "      <td>5000.000000</td>\n",
              "      <td>...</td>\n",
              "      <td>5000.000000</td>\n",
              "      <td>5000.000000</td>\n",
              "      <td>5000.000000</td>\n",
              "      <td>5000.000000</td>\n",
              "      <td>5000.000000</td>\n",
              "      <td>5000.000000</td>\n",
              "      <td>5000.000000</td>\n",
              "      <td>5000.000000</td>\n",
              "      <td>5000.000000</td>\n",
              "      <td>5000.000000</td>\n",
              "    </tr>\n",
              "    <tr>\n",
              "      <th>mean</th>\n",
              "      <td>1.527400</td>\n",
              "      <td>-0.262476</td>\n",
              "      <td>-1.649511</td>\n",
              "      <td>-2.492211</td>\n",
              "      <td>-3.119443</td>\n",
              "      <td>-3.167438</td>\n",
              "      <td>-2.866308</td>\n",
              "      <td>-2.273126</td>\n",
              "      <td>-1.798127</td>\n",
              "      <td>-1.410124</td>\n",
              "      <td>...</td>\n",
              "      <td>0.146319</td>\n",
              "      <td>0.070973</td>\n",
              "      <td>-0.062914</td>\n",
              "      <td>-0.276206</td>\n",
              "      <td>-0.507667</td>\n",
              "      <td>-0.761043</td>\n",
              "      <td>-0.834741</td>\n",
              "      <td>-0.642263</td>\n",
              "      <td>-0.487242</td>\n",
              "      <td>-0.706008</td>\n",
              "    </tr>\n",
              "    <tr>\n",
              "      <th>std</th>\n",
              "      <td>0.760372</td>\n",
              "      <td>1.152369</td>\n",
              "      <td>1.445493</td>\n",
              "      <td>1.386409</td>\n",
              "      <td>1.302802</td>\n",
              "      <td>1.104382</td>\n",
              "      <td>0.906133</td>\n",
              "      <td>0.731627</td>\n",
              "      <td>0.623100</td>\n",
              "      <td>0.637149</td>\n",
              "      <td>...</td>\n",
              "      <td>1.171299</td>\n",
              "      <td>1.404842</td>\n",
              "      <td>1.646585</td>\n",
              "      <td>1.895134</td>\n",
              "      <td>2.059758</td>\n",
              "      <td>2.086218</td>\n",
              "      <td>2.056220</td>\n",
              "      <td>1.859296</td>\n",
              "      <td>1.830987</td>\n",
              "      <td>1.414465</td>\n",
              "    </tr>\n",
              "    <tr>\n",
              "      <th>min</th>\n",
              "      <td>1.000000</td>\n",
              "      <td>-6.729499</td>\n",
              "      <td>-7.090374</td>\n",
              "      <td>-5.132459</td>\n",
              "      <td>-5.363241</td>\n",
              "      <td>-5.375715</td>\n",
              "      <td>-5.330194</td>\n",
              "      <td>-4.782240</td>\n",
              "      <td>-4.311288</td>\n",
              "      <td>-4.071361</td>\n",
              "      <td>...</td>\n",
              "      <td>-3.971715</td>\n",
              "      <td>-4.167040</td>\n",
              "      <td>-4.557576</td>\n",
              "      <td>-4.530488</td>\n",
              "      <td>-4.563270</td>\n",
              "      <td>-5.150100</td>\n",
              "      <td>-4.880460</td>\n",
              "      <td>-5.496107</td>\n",
              "      <td>-5.880890</td>\n",
              "      <td>-6.092227</td>\n",
              "    </tr>\n",
              "    <tr>\n",
              "      <th>25%</th>\n",
              "      <td>1.000000</td>\n",
              "      <td>-1.004511</td>\n",
              "      <td>-2.701576</td>\n",
              "      <td>-3.668096</td>\n",
              "      <td>-4.227247</td>\n",
              "      <td>-4.007470</td>\n",
              "      <td>-3.480479</td>\n",
              "      <td>-2.779941</td>\n",
              "      <td>-2.165851</td>\n",
              "      <td>-1.774124</td>\n",
              "      <td>...</td>\n",
              "      <td>-0.655753</td>\n",
              "      <td>-1.089300</td>\n",
              "      <td>-1.588885</td>\n",
              "      <td>-2.147449</td>\n",
              "      <td>-2.731550</td>\n",
              "      <td>-3.030509</td>\n",
              "      <td>-2.868331</td>\n",
              "      <td>-2.153513</td>\n",
              "      <td>-1.657771</td>\n",
              "      <td>-1.596692</td>\n",
              "    </tr>\n",
              "    <tr>\n",
              "      <th>50%</th>\n",
              "      <td>1.000000</td>\n",
              "      <td>-0.297541</td>\n",
              "      <td>-1.661892</td>\n",
              "      <td>-2.585677</td>\n",
              "      <td>-3.387934</td>\n",
              "      <td>-3.468718</td>\n",
              "      <td>-2.947061</td>\n",
              "      <td>-2.285578</td>\n",
              "      <td>-1.750157</td>\n",
              "      <td>-1.422570</td>\n",
              "      <td>...</td>\n",
              "      <td>0.473642</td>\n",
              "      <td>0.658318</td>\n",
              "      <td>0.717808</td>\n",
              "      <td>0.604747</td>\n",
              "      <td>0.334857</td>\n",
              "      <td>-0.030767</td>\n",
              "      <td>-0.195151</td>\n",
              "      <td>-0.194423</td>\n",
              "      <td>-0.160262</td>\n",
              "      <td>-0.565588</td>\n",
              "    </tr>\n",
              "    <tr>\n",
              "      <th>75%</th>\n",
              "      <td>2.000000</td>\n",
              "      <td>0.500061</td>\n",
              "      <td>-0.677290</td>\n",
              "      <td>-1.513964</td>\n",
              "      <td>-2.235369</td>\n",
              "      <td>-2.530967</td>\n",
              "      <td>-2.398813</td>\n",
              "      <td>-1.823494</td>\n",
              "      <td>-1.484923</td>\n",
              "      <td>-1.063708</td>\n",
              "      <td>...</td>\n",
              "      <td>1.062134</td>\n",
              "      <td>1.169420</td>\n",
              "      <td>1.238687</td>\n",
              "      <td>1.264471</td>\n",
              "      <td>1.234433</td>\n",
              "      <td>1.034584</td>\n",
              "      <td>0.945237</td>\n",
              "      <td>0.951681</td>\n",
              "      <td>1.002692</td>\n",
              "      <td>0.272012</td>\n",
              "    </tr>\n",
              "    <tr>\n",
              "      <th>max</th>\n",
              "      <td>5.000000</td>\n",
              "      <td>4.966414</td>\n",
              "      <td>3.479689</td>\n",
              "      <td>2.660597</td>\n",
              "      <td>1.899798</td>\n",
              "      <td>2.147015</td>\n",
              "      <td>1.614375</td>\n",
              "      <td>1.868728</td>\n",
              "      <td>1.804251</td>\n",
              "      <td>1.683730</td>\n",
              "      <td>...</td>\n",
              "      <td>2.960969</td>\n",
              "      <td>3.007606</td>\n",
              "      <td>2.854680</td>\n",
              "      <td>2.912394</td>\n",
              "      <td>2.937685</td>\n",
              "      <td>3.351437</td>\n",
              "      <td>3.432519</td>\n",
              "      <td>3.579448</td>\n",
              "      <td>4.425976</td>\n",
              "      <td>7.402103</td>\n",
              "    </tr>\n",
              "  </tbody>\n",
              "</table>\n",
              "<p>8 rows × 141 columns</p>\n",
              "</div>\n",
              "    <div class=\"colab-df-buttons\">\n",
              "\n",
              "  <div class=\"colab-df-container\">\n",
              "    <button class=\"colab-df-convert\" onclick=\"convertToInteractive('df-4a7fa6eb-6ab3-45b6-85da-5bd76d9c09d1')\"\n",
              "            title=\"Convert this dataframe to an interactive table.\"\n",
              "            style=\"display:none;\">\n",
              "\n",
              "  <svg xmlns=\"http://www.w3.org/2000/svg\" height=\"24px\" viewBox=\"0 -960 960 960\">\n",
              "    <path d=\"M120-120v-720h720v720H120Zm60-500h600v-160H180v160Zm220 220h160v-160H400v160Zm0 220h160v-160H400v160ZM180-400h160v-160H180v160Zm440 0h160v-160H620v160ZM180-180h160v-160H180v160Zm440 0h160v-160H620v160Z\"/>\n",
              "  </svg>\n",
              "    </button>\n",
              "\n",
              "  <style>\n",
              "    .colab-df-container {\n",
              "      display:flex;\n",
              "      gap: 12px;\n",
              "    }\n",
              "\n",
              "    .colab-df-convert {\n",
              "      background-color: #E8F0FE;\n",
              "      border: none;\n",
              "      border-radius: 50%;\n",
              "      cursor: pointer;\n",
              "      display: none;\n",
              "      fill: #1967D2;\n",
              "      height: 32px;\n",
              "      padding: 0 0 0 0;\n",
              "      width: 32px;\n",
              "    }\n",
              "\n",
              "    .colab-df-convert:hover {\n",
              "      background-color: #E2EBFA;\n",
              "      box-shadow: 0px 1px 2px rgba(60, 64, 67, 0.3), 0px 1px 3px 1px rgba(60, 64, 67, 0.15);\n",
              "      fill: #174EA6;\n",
              "    }\n",
              "\n",
              "    .colab-df-buttons div {\n",
              "      margin-bottom: 4px;\n",
              "    }\n",
              "\n",
              "    [theme=dark] .colab-df-convert {\n",
              "      background-color: #3B4455;\n",
              "      fill: #D2E3FC;\n",
              "    }\n",
              "\n",
              "    [theme=dark] .colab-df-convert:hover {\n",
              "      background-color: #434B5C;\n",
              "      box-shadow: 0px 1px 3px 1px rgba(0, 0, 0, 0.15);\n",
              "      filter: drop-shadow(0px 1px 2px rgba(0, 0, 0, 0.3));\n",
              "      fill: #FFFFFF;\n",
              "    }\n",
              "  </style>\n",
              "\n",
              "    <script>\n",
              "      const buttonEl =\n",
              "        document.querySelector('#df-4a7fa6eb-6ab3-45b6-85da-5bd76d9c09d1 button.colab-df-convert');\n",
              "      buttonEl.style.display =\n",
              "        google.colab.kernel.accessAllowed ? 'block' : 'none';\n",
              "\n",
              "      async function convertToInteractive(key) {\n",
              "        const element = document.querySelector('#df-4a7fa6eb-6ab3-45b6-85da-5bd76d9c09d1');\n",
              "        const dataTable =\n",
              "          await google.colab.kernel.invokeFunction('convertToInteractive',\n",
              "                                                    [key], {});\n",
              "        if (!dataTable) return;\n",
              "\n",
              "        const docLinkHtml = 'Like what you see? Visit the ' +\n",
              "          '<a target=\"_blank\" href=https://colab.research.google.com/notebooks/data_table.ipynb>data table notebook</a>'\n",
              "          + ' to learn more about interactive tables.';\n",
              "        element.innerHTML = '';\n",
              "        dataTable['output_type'] = 'display_data';\n",
              "        await google.colab.output.renderOutput(dataTable, element);\n",
              "        const docLink = document.createElement('div');\n",
              "        docLink.innerHTML = docLinkHtml;\n",
              "        element.appendChild(docLink);\n",
              "      }\n",
              "    </script>\n",
              "  </div>\n",
              "\n",
              "\n",
              "<div id=\"df-a73495f0-3a2c-46a9-85c4-8625f87c9713\">\n",
              "  <button class=\"colab-df-quickchart\" onclick=\"quickchart('df-a73495f0-3a2c-46a9-85c4-8625f87c9713')\"\n",
              "            title=\"Suggest charts.\"\n",
              "            style=\"display:none;\">\n",
              "\n",
              "<svg xmlns=\"http://www.w3.org/2000/svg\" height=\"24px\"viewBox=\"0 0 24 24\"\n",
              "     width=\"24px\">\n",
              "    <g>\n",
              "        <path d=\"M19 3H5c-1.1 0-2 .9-2 2v14c0 1.1.9 2 2 2h14c1.1 0 2-.9 2-2V5c0-1.1-.9-2-2-2zM9 17H7v-7h2v7zm4 0h-2V7h2v10zm4 0h-2v-4h2v4z\"/>\n",
              "    </g>\n",
              "</svg>\n",
              "  </button>\n",
              "\n",
              "<style>\n",
              "  .colab-df-quickchart {\n",
              "    background-color: #E8F0FE;\n",
              "    border: none;\n",
              "    border-radius: 50%;\n",
              "    cursor: pointer;\n",
              "    display: none;\n",
              "    fill: #1967D2;\n",
              "    height: 32px;\n",
              "    padding: 0 0 0 0;\n",
              "    width: 32px;\n",
              "  }\n",
              "\n",
              "  .colab-df-quickchart:hover {\n",
              "    background-color: #E2EBFA;\n",
              "    box-shadow: 0px 1px 2px rgba(60, 64, 67, 0.3), 0px 1px 3px 1px rgba(60, 64, 67, 0.15);\n",
              "    fill: #174EA6;\n",
              "  }\n",
              "\n",
              "  [theme=dark] .colab-df-quickchart {\n",
              "    background-color: #3B4455;\n",
              "    fill: #D2E3FC;\n",
              "  }\n",
              "\n",
              "  [theme=dark] .colab-df-quickchart:hover {\n",
              "    background-color: #434B5C;\n",
              "    box-shadow: 0px 1px 3px 1px rgba(0, 0, 0, 0.15);\n",
              "    filter: drop-shadow(0px 1px 2px rgba(0, 0, 0, 0.3));\n",
              "    fill: #FFFFFF;\n",
              "  }\n",
              "</style>\n",
              "\n",
              "  <script>\n",
              "    async function quickchart(key) {\n",
              "      const charts = await google.colab.kernel.invokeFunction(\n",
              "          'suggestCharts', [key], {});\n",
              "    }\n",
              "    (() => {\n",
              "      let quickchartButtonEl =\n",
              "        document.querySelector('#df-a73495f0-3a2c-46a9-85c4-8625f87c9713 button');\n",
              "      quickchartButtonEl.style.display =\n",
              "        google.colab.kernel.accessAllowed ? 'block' : 'none';\n",
              "    })();\n",
              "  </script>\n",
              "</div>\n",
              "    </div>\n",
              "  </div>\n"
            ]
          },
          "metadata": {},
          "execution_count": 15
        }
      ]
    },
    {
      "cell_type": "code",
      "source": [
        "train_data, test_data, train_labels, test_labels = train_test_split(df.values, df.values[:, 0:1], test_size = 0.2, random_state = 111)"
      ],
      "metadata": {
        "id": "u9YiJD-pbGlh"
      },
      "execution_count": 16,
      "outputs": []
    },
    {
      "cell_type": "code",
      "source": [
        "print(train_data.shape)\n",
        "print(test_data.shape)\n",
        "print(train_labels.shape)\n",
        "print(test_labels.shape)"
      ],
      "metadata": {
        "id": "791xW4xr42P6",
        "colab": {
          "base_uri": "https://localhost:8080/"
        },
        "outputId": "6736d207-507c-47b8-9012-2a60276ab0f8"
      },
      "execution_count": 17,
      "outputs": [
        {
          "output_type": "stream",
          "name": "stdout",
          "text": [
            "(4000, 141)\n",
            "(1000, 141)\n",
            "(4000, 1)\n",
            "(1000, 1)\n"
          ]
        }
      ]
    },
    {
      "cell_type": "code",
      "source": [
        "scaler = MinMaxScaler()\n",
        "data_scaled = scaler.fit(train_data)"
      ],
      "metadata": {
        "id": "ls8lyxIpbGpJ"
      },
      "execution_count": 18,
      "outputs": []
    },
    {
      "cell_type": "code",
      "source": [
        "train_data_scaled = data_scaled.transform(train_data)\n",
        "test_data_scaled = data_scaled.transform(test_data)"
      ],
      "metadata": {
        "id": "dV8rMrfvbGsj"
      },
      "execution_count": 19,
      "outputs": []
    },
    {
      "cell_type": "code",
      "source": [
        "train_data_scaled"
      ],
      "metadata": {
        "id": "mI9o0EVksfUn",
        "colab": {
          "base_uri": "https://localhost:8080/"
        },
        "outputId": "55e821f0-57f6-4f04-9210-ee4c6f3b086a"
      },
      "execution_count": 20,
      "outputs": [
        {
          "output_type": "execute_result",
          "data": {
            "text/plain": [
              "array([[0.        , 0.68350165, 0.84555441, ..., 0.50027762, 0.49587899,\n",
              "        0.39114839],\n",
              "       [0.        , 0.44621304, 0.31053752, ..., 0.77834844, 0.78233943,\n",
              "        0.46629036],\n",
              "       [0.        , 0.71203288, 0.64553551, ..., 0.83309413, 0.67825035,\n",
              "        0.51983982],\n",
              "       ...,\n",
              "       [0.25      , 0.36459305, 0.40436209, ..., 0.2880798 , 0.36659954,\n",
              "        0.39484257],\n",
              "       [0.        , 0.44695501, 0.3526011 , ..., 0.7355411 , 0.60488833,\n",
              "        0.30667936],\n",
              "       [0.25      , 0.51092627, 0.53072929, ..., 0.27098994, 0.35724797,\n",
              "        0.39934207]])"
            ]
          },
          "metadata": {},
          "execution_count": 20
        }
      ]
    },
    {
      "cell_type": "code",
      "source": [
        "#get the normal train data and anomally trained data\n",
        "#get all the datapoints except for the first column cause it has 0 or non zero for anomally\n",
        "normal_train_data = pd.DataFrame(train_data_scaled).add_prefix('c').query('c0 == 0').values[:, 1:]\n",
        "anomally_train_data = pd.DataFrame(train_data_scaled).add_prefix('c').query('c0 > 0').values[:, 1:]"
      ],
      "metadata": {
        "id": "MXIO4172sfXu"
      },
      "execution_count": 21,
      "outputs": []
    },
    {
      "cell_type": "code",
      "source": [
        "#do the same thing for test_data\n",
        "normal_test_data = pd.DataFrame(train_data_scaled).add_prefix('c').query('c0 == 0').values[:, 1:] #taking all columns after the 1st column\n",
        "anomally_test_data = pd.DataFrame(train_data_scaled).add_prefix('c').query('c0 > 0').values[:, 1:]\n",
        "#after this I could drop the first column but. not necessary"
      ],
      "metadata": {
        "id": "J-EisyHlsfbU"
      },
      "execution_count": 22,
      "outputs": []
    },
    {
      "cell_type": "code",
      "source": [
        "print(normal_train_data.shape)\n",
        "print(normal_test_data.shape)"
      ],
      "metadata": {
        "id": "jPjpuTbXuF-a",
        "colab": {
          "base_uri": "https://localhost:8080/"
        },
        "outputId": "82af9d3d-cda5-4efc-baa1-b4babb727dd1"
      },
      "execution_count": 23,
      "outputs": [
        {
          "output_type": "stream",
          "name": "stdout",
          "text": [
            "(2361, 140)\n",
            "(2361, 140)\n"
          ]
        }
      ]
    },
    {
      "cell_type": "code",
      "source": [
        "print(anomally_train_data.shape)\n",
        "print(anomally_test_data.shape)\n",
        "#we are not going to train with anomally data. it's only for validation and inference/conclusion\n",
        "#we only train with normal data"
      ],
      "metadata": {
        "id": "By9FemTUuGFI",
        "colab": {
          "base_uri": "https://localhost:8080/"
        },
        "outputId": "a774f6ae-b8df-436d-a26f-8814b63a7a82"
      },
      "execution_count": 24,
      "outputs": [
        {
          "output_type": "stream",
          "name": "stdout",
          "text": [
            "(1639, 140)\n",
            "(1639, 140)\n"
          ]
        }
      ]
    },
    {
      "cell_type": "code",
      "source": [
        "plt.plot(normal_train_data[0])\n",
        "plt.plot(normal_train_data[1])\n",
        "plt.plot(normal_train_data[2])\n",
        "plt.plot(normal_train_data[2355])"
      ],
      "metadata": {
        "id": "i_jLc5YCuGJM",
        "colab": {
          "base_uri": "https://localhost:8080/",
          "height": 447
        },
        "outputId": "844af248-562e-43ff-f81f-10d04019dd48"
      },
      "execution_count": 25,
      "outputs": [
        {
          "output_type": "execute_result",
          "data": {
            "text/plain": [
              "[<matplotlib.lines.Line2D at 0x7c7298b00670>]"
            ]
          },
          "metadata": {},
          "execution_count": 25
        },
        {
          "output_type": "display_data",
          "data": {
            "text/plain": [
              "<Figure size 640x480 with 1 Axes>"
            ],
            "image/png": "[encoded data removed]"
          },
          "metadata": {}
        }
      ]
    },
    {
      "cell_type": "code",
      "source": [
        "plt.plot(anomally_train_data[0])\n",
        "plt.plot(anomally_train_data[1])\n",
        "plt.plot(anomally_train_data[2])\n",
        "plt.plot(anomally_train_data[163])"
      ],
      "metadata": {
        "id": "20n2XMzBuqcZ",
        "colab": {
          "base_uri": "https://localhost:8080/",
          "height": 447
        },
        "outputId": "8e478ddb-5997-4832-c20d-b99b142a015d"
      },
      "execution_count": 27,
      "outputs": [
        {
          "output_type": "execute_result",
          "data": {
            "text/plain": [
              "[<matplotlib.lines.Line2D at 0x7c7298a86c80>]"
            ]
          },
          "metadata": {},
          "execution_count": 27
        },
        {
          "output_type": "display_data",
          "data": {
            "text/plain": [
              "<Figure size 640x480 with 1 Axes>"
            ],
            "image/png": "[encoded data removed]"
          },
          "metadata": {}
        }
      ]
    },
    {
      "cell_type": "code",
      "source": [
        "#first way: sequential implementation of autoencoder model\n",
        "#not implemented fully in this code\n",
        "model = tf.keras.Sequential()\n",
        "#encoder\n",
        "model.add(tf.keras.layers.Dense(64, activation = 'relu'))\n",
        "model.add(tf.keras.layers.Dense(32, activation = 'relu'))\n",
        "model.add(tf.keras.layers.Dense(16, activation = 'relu'))\n",
        "\n",
        "model.add(tf.keras.layers.Dense(8, activation = 'relu'))#intermediate layer/bottleneck layer\n",
        "#decoder\n",
        "model.add(tf.keras.layers.Dense(16, activation = 'relu'))\n",
        "model.add(tf.keras.layers.Dense(32, activation = 'relu'))\n",
        "model.add(tf.keras.layers.Dense(64, activation = 'relu'))\n",
        "\n",
        "model.add(tf.keras.layers.Dense(140, activation = 'sigmoid'))"
      ],
      "metadata": {
        "id": "igKx31xGvn-F"
      },
      "execution_count": 28,
      "outputs": []
    },
    {
      "cell_type": "code",
      "source": [
        "#2nd way: subclassing\n",
        "#helps us to use the encoder and decoder separately easily\n",
        "#8 layers\n",
        "class AutoEncoder(Model):\n",
        "  def __init__(self):\n",
        "    super(AutoEncoder,self).__init__()\n",
        "    self.encoder = tf.keras.Sequential([\n",
        "        tf.keras.layers.Dense(64, activation = 'relu'),\n",
        "        tf.keras.layers.Dense(32, activation = 'relu'),\n",
        "        tf.keras.layers.Dense(16, activation = 'relu'),\n",
        "        tf.keras.layers.Dense(8, activation = 'relu')])\n",
        "\n",
        "    self.decoder = tf.keras.Sequential([\n",
        "        tf.keras.layers.Dense(16, activation = 'relu'),\n",
        "        tf.keras.layers.Dense(32, activation = 'relu'),\n",
        "        tf.keras.layers.Dense(64, activation = 'relu'),\n",
        "        tf.keras.layers.Dense(140, activation = 'sigmoid')])\n",
        "\n",
        "  def call(self, x):\n",
        "      encoded = self.encoder(x)\n",
        "      decoded = self.decoder(encoded)\n",
        "      return decoded\n",
        "\n",
        "\n",
        ""
      ],
      "metadata": {
        "id": "ikJkgLlCvoBs"
      },
      "execution_count": 29,
      "outputs": []
    },
    {
      "cell_type": "code",
      "source": [
        "#didn't really use early stopping. might be necessary if data is way too huge\n",
        "model = AutoEncoder()\n",
        "#I want to stop incase the validation loss does not improve across 2 epochs\n",
        "#if it's accuracy mode = 'max or you can leave it and it populate auto\n",
        "early_stopping = tf.keras.callbacks.EarlyStopping(monitor='val_loss', patience = 2, mode = 'min') #this part not really needed\n",
        "\n",
        "model.compile(optimizer='adam', loss='mae') #mean absolute error"
      ],
      "metadata": {
        "id": "7Zy-hn09uqfP"
      },
      "execution_count": 30,
      "outputs": []
    },
    {
      "cell_type": "code",
      "source": [
        "history = model.fit(normal_train_data,\n",
        "                    normal_train_data,  #train the model with normal data how it looks\n",
        "                    epochs = 50,  # early stopping so it won't run for all 50 epochs\n",
        "                    batch_size = 128,\n",
        "                    validation_data = (train_data_scaled[:,1:], train_data_scaled[:,1:]), #passing entire dataset excpet for column 1.it contain both the normal and anomally data\n",
        "                    shuffle = True,\n",
        "                    #callbacks = [early_stopping])\n",
        ")\n"
      ],
      "metadata": {
        "id": "1PzQcDY120xy",
        "colab": {
          "base_uri": "https://localhost:8080/"
        },
        "outputId": "df64f62a-62b4-4e54-c099-f41285fea936"
      },
      "execution_count": 31,
      "outputs": [
        {
          "output_type": "stream",
          "name": "stdout",
          "text": [
            "Epoch 1/50\n",
            "19/19 [==============================] - 2s 15ms/step - loss: 0.1217 - val_loss: 0.1028\n",
            "Epoch 2/50\n",
            "19/19 [==============================] - 0s 5ms/step - loss: 0.0692 - val_loss: 0.0760\n",
            "Epoch 3/50\n",
            "19/19 [==============================] - 0s 5ms/step - loss: 0.0489 - val_loss: 0.0744\n",
            "Epoch 4/50\n",
            "19/19 [==============================] - 0s 6ms/step - loss: 0.0462 - val_loss: 0.0728\n",
            "Epoch 5/50\n",
            "19/19 [==============================] - 0s 5ms/step - loss: 0.0459 - val_loss: 0.0722\n",
            "Epoch 6/50\n",
            "19/19 [==============================] - 0s 6ms/step - loss: 0.0455 - val_loss: 0.0721\n",
            "Epoch 7/50\n",
            "19/19 [==============================] - 0s 5ms/step - loss: 0.0453 - val_loss: 0.0718\n",
            "Epoch 8/50\n",
            "19/19 [==============================] - 0s 7ms/step - loss: 0.0450 - val_loss: 0.0715\n",
            "Epoch 9/50\n",
            "19/19 [==============================] - 0s 5ms/step - loss: 0.0444 - val_loss: 0.0701\n",
            "Epoch 10/50\n",
            "19/19 [==============================] - 0s 5ms/step - loss: 0.0426 - val_loss: 0.0674\n",
            "Epoch 11/50\n",
            "19/19 [==============================] - 0s 7ms/step - loss: 0.0394 - val_loss: 0.0643\n",
            "Epoch 12/50\n",
            "19/19 [==============================] - 0s 4ms/step - loss: 0.0371 - val_loss: 0.0612\n",
            "Epoch 13/50\n",
            "19/19 [==============================] - 0s 5ms/step - loss: 0.0360 - val_loss: 0.0604\n",
            "Epoch 14/50\n",
            "19/19 [==============================] - 0s 4ms/step - loss: 0.0358 - val_loss: 0.0599\n",
            "Epoch 15/50\n",
            "19/19 [==============================] - 0s 6ms/step - loss: 0.0354 - val_loss: 0.0598\n",
            "Epoch 16/50\n",
            "19/19 [==============================] - 0s 5ms/step - loss: 0.0352 - val_loss: 0.0594\n",
            "Epoch 17/50\n",
            "19/19 [==============================] - 0s 4ms/step - loss: 0.0351 - val_loss: 0.0590\n",
            "Epoch 18/50\n",
            "19/19 [==============================] - 0s 7ms/step - loss: 0.0350 - val_loss: 0.0590\n",
            "Epoch 19/50\n",
            "19/19 [==============================] - 0s 5ms/step - loss: 0.0347 - val_loss: 0.0585\n",
            "Epoch 20/50\n",
            "19/19 [==============================] - 0s 6ms/step - loss: 0.0345 - val_loss: 0.0582\n",
            "Epoch 21/50\n",
            "19/19 [==============================] - 0s 5ms/step - loss: 0.0344 - val_loss: 0.0583\n",
            "Epoch 22/50\n",
            "19/19 [==============================] - 0s 6ms/step - loss: 0.0343 - val_loss: 0.0586\n",
            "Epoch 23/50\n",
            "19/19 [==============================] - 0s 6ms/step - loss: 0.0341 - val_loss: 0.0577\n",
            "Epoch 24/50\n",
            "19/19 [==============================] - 0s 6ms/step - loss: 0.0335 - val_loss: 0.0573\n",
            "Epoch 25/50\n",
            "19/19 [==============================] - 0s 7ms/step - loss: 0.0325 - val_loss: 0.0568\n",
            "Epoch 26/50\n",
            "19/19 [==============================] - 0s 4ms/step - loss: 0.0313 - val_loss: 0.0566\n",
            "Epoch 27/50\n",
            "19/19 [==============================] - 0s 6ms/step - loss: 0.0302 - val_loss: 0.0557\n",
            "Epoch 28/50\n",
            "19/19 [==============================] - 0s 5ms/step - loss: 0.0294 - val_loss: 0.0552\n",
            "Epoch 29/50\n",
            "19/19 [==============================] - 0s 6ms/step - loss: 0.0286 - val_loss: 0.0551\n",
            "Epoch 30/50\n",
            "19/19 [==============================] - 0s 5ms/step - loss: 0.0282 - val_loss: 0.0540\n",
            "Epoch 31/50\n",
            "19/19 [==============================] - 0s 7ms/step - loss: 0.0281 - val_loss: 0.0542\n",
            "Epoch 32/50\n",
            "19/19 [==============================] - 0s 6ms/step - loss: 0.0279 - val_loss: 0.0530\n",
            "Epoch 33/50\n",
            "19/19 [==============================] - 0s 5ms/step - loss: 0.0275 - val_loss: 0.0527\n",
            "Epoch 34/50\n",
            "19/19 [==============================] - 0s 7ms/step - loss: 0.0272 - val_loss: 0.0515\n",
            "Epoch 35/50\n",
            "19/19 [==============================] - 0s 7ms/step - loss: 0.0270 - val_loss: 0.0511\n",
            "Epoch 36/50\n",
            "19/19 [==============================] - 0s 6ms/step - loss: 0.0268 - val_loss: 0.0509\n",
            "Epoch 37/50\n",
            "19/19 [==============================] - 0s 6ms/step - loss: 0.0266 - val_loss: 0.0504\n",
            "Epoch 38/50\n",
            "19/19 [==============================] - 0s 6ms/step - loss: 0.0265 - val_loss: 0.0502\n",
            "Epoch 39/50\n",
            "19/19 [==============================] - 0s 7ms/step - loss: 0.0265 - val_loss: 0.0503\n",
            "Epoch 40/50\n",
            "19/19 [==============================] - 0s 6ms/step - loss: 0.0262 - val_loss: 0.0501\n",
            "Epoch 41/50\n",
            "19/19 [==============================] - 0s 7ms/step - loss: 0.0262 - val_loss: 0.0504\n",
            "Epoch 42/50\n",
            "19/19 [==============================] - 0s 7ms/step - loss: 0.0260 - val_loss: 0.0497\n",
            "Epoch 43/50\n",
            "19/19 [==============================] - 0s 6ms/step - loss: 0.0261 - val_loss: 0.0498\n",
            "Epoch 44/50\n",
            "19/19 [==============================] - 0s 7ms/step - loss: 0.0260 - val_loss: 0.0498\n",
            "Epoch 45/50\n",
            "19/19 [==============================] - 0s 7ms/step - loss: 0.0258 - val_loss: 0.0500\n",
            "Epoch 46/50\n",
            "19/19 [==============================] - 0s 6ms/step - loss: 0.0258 - val_loss: 0.0495\n",
            "Epoch 47/50\n",
            "19/19 [==============================] - 0s 7ms/step - loss: 0.0259 - val_loss: 0.0493\n",
            "Epoch 48/50\n",
            "19/19 [==============================] - 0s 6ms/step - loss: 0.0256 - val_loss: 0.0487\n",
            "Epoch 49/50\n",
            "19/19 [==============================] - 0s 7ms/step - loss: 0.0255 - val_loss: 0.0486\n",
            "Epoch 50/50\n",
            "19/19 [==============================] - 0s 7ms/step - loss: 0.0254 - val_loss: 0.0486\n"
          ]
        }
      ]
    },
    {
      "cell_type": "code",
      "source": [
        "encoder_out = model.encoder(normal_test_data).numpy()\n",
        "decoder_out = model.decoder(encoder_out)"
      ],
      "metadata": {
        "id": "VgzXbO_m209O"
      },
      "execution_count": 32,
      "outputs": []
    },
    {
      "cell_type": "code",
      "source": [
        "normal_test_data.shape"
      ],
      "metadata": {
        "id": "TdRPEztjbzx6",
        "colab": {
          "base_uri": "https://localhost:8080/"
        },
        "outputId": "2cb57866-4042-41cf-ca74-3fcb5fb6660a"
      },
      "execution_count": 33,
      "outputs": [
        {
          "output_type": "execute_result",
          "data": {
            "text/plain": [
              "(2361, 140)"
            ]
          },
          "metadata": {},
          "execution_count": 33
        }
      ]
    },
    {
      "cell_type": "code",
      "source": [
        "encoder_out.shape"
      ],
      "metadata": {
        "id": "gPk_AnGK21CD",
        "colab": {
          "base_uri": "https://localhost:8080/"
        },
        "outputId": "7b17290c-b769-4968-c5e4-7daff6699ec7"
      },
      "execution_count": 34,
      "outputs": [
        {
          "output_type": "execute_result",
          "data": {
            "text/plain": [
              "(2361, 8)"
            ]
          },
          "metadata": {},
          "execution_count": 34
        }
      ]
    },
    {
      "cell_type": "code",
      "source": [
        "decoder_out.shape"
      ],
      "metadata": {
        "id": "V-a82Mgnuqia",
        "colab": {
          "base_uri": "https://localhost:8080/"
        },
        "outputId": "5b84124e-8709-4a42-c988-7eb8e55751de"
      },
      "execution_count": 35,
      "outputs": [
        {
          "output_type": "execute_result",
          "data": {
            "text/plain": [
              "TensorShape([2361, 140])"
            ]
          },
          "metadata": {},
          "execution_count": 35
        }
      ]
    },
    {
      "cell_type": "code",
      "source": [
        "plt.plot(normal_test_data[0], 'b')\n",
        "plt.plot(decoder_out[0], 'r')\n",
        "#the small difference between the two graphs is called the reconstruction error\n",
        "#this is for normal data"
      ],
      "metadata": {
        "id": "4Lcl4Bb9uqlj",
        "colab": {
          "base_uri": "https://localhost:8080/",
          "height": 447
        },
        "outputId": "eaf3c84b-596c-4f26-c76a-3e6ba8c07542"
      },
      "execution_count": 36,
      "outputs": [
        {
          "output_type": "execute_result",
          "data": {
            "text/plain": [
              "[<matplotlib.lines.Line2D at 0x7c7299141330>]"
            ]
          },
          "metadata": {},
          "execution_count": 36
        },
        {
          "output_type": "display_data",
          "data": {
            "text/plain": [
              "<Figure size 640x480 with 1 Axes>"
            ],
            "image/png": "[encoded data removed]"
          },
          "metadata": {}
        }
      ]
    },
    {
      "cell_type": "code",
      "source": [
        "#let's see what happens when u plot the decoded data with anomally data\n",
        "plt.plot(anomally_test_data[0], 'b')\n",
        "plt.plot(decoder_out[0], 'r')\n",
        "#you can see there is a huge reconstruction error than from normal data"
      ],
      "metadata": {
        "id": "oXmzfoRWdmT2",
        "colab": {
          "base_uri": "https://localhost:8080/",
          "height": 447
        },
        "outputId": "3ffecad5-f45b-4c0e-c5d9-308c669acb3f"
      },
      "execution_count": 37,
      "outputs": [
        {
          "output_type": "execute_result",
          "data": {
            "text/plain": [
              "[<matplotlib.lines.Line2D at 0x7c7288707610>]"
            ]
          },
          "metadata": {},
          "execution_count": 37
        },
        {
          "output_type": "display_data",
          "data": {
            "text/plain": [
              "<Figure size 640x480 with 1 Axes>"
            ],
            "image/png": "[encoded data removed]"
          },
          "metadata": {}
        }
      ]
    },
    {
      "cell_type": "code",
      "source": [
        "decoder_out"
      ],
      "metadata": {
        "id": "M2cy8GQPWtc1",
        "colab": {
          "base_uri": "https://localhost:8080/"
        },
        "outputId": "3ea9a841-2a82-4c63-866c-985cd96f8863"
      },
      "execution_count": 38,
      "outputs": [
        {
          "output_type": "execute_result",
          "data": {
            "text/plain": [
              "<tf.Tensor: shape=(2361, 140), dtype=float32, numpy=\n",
              "array([[0.7203497 , 0.6513926 , 0.3344366 , ..., 0.70976895, 0.66604406,\n",
              "        0.4310328 ],\n",
              "       [0.539124  , 0.44139007, 0.19334571, ..., 0.7329419 , 0.71820855,\n",
              "        0.43234473],\n",
              "       [0.6847769 , 0.62990224, 0.35042644, ..., 0.78336275, 0.7314844 ,\n",
              "        0.5093176 ],\n",
              "       ...,\n",
              "       [0.669466  , 0.56827927, 0.23618963, ..., 0.67863125, 0.6644026 ,\n",
              "        0.3747012 ],\n",
              "       [0.43410036, 0.37744698, 0.17837699, ..., 0.6471085 , 0.6115588 ,\n",
              "        0.3833196 ],\n",
              "       [0.48433056, 0.40176976, 0.1762753 , ..., 0.6552578 , 0.6286493 ,\n",
              "        0.37738073]], dtype=float32)>"
            ]
          },
          "metadata": {},
          "execution_count": 38
        }
      ]
    },
    {
      "cell_type": "code",
      "source": [
        "reconstruction = model.predict(normal_test_data)\n",
        "train_loss = tf.keras.losses.mae(reconstruction, normal_test_data)\n",
        "\n",
        "plt.hist(train_loss, bins=50)\n"
      ],
      "metadata": {
        "id": "J6QwLcYderit",
        "colab": {
          "base_uri": "https://localhost:8080/",
          "height": 742
        },
        "outputId": "907205a5-7258-4ee5-c4af-d2a69d489ba8"
      },
      "execution_count": 39,
      "outputs": [
        {
          "output_type": "stream",
          "name": "stdout",
          "text": [
            "74/74 [==============================] - 0s 1ms/step\n"
          ]
        },
        {
          "output_type": "execute_result",
          "data": {
            "text/plain": [
              "(array([ 50., 206., 339., 402., 349., 252., 202., 159., 101.,  81.,  48.,\n",
              "         40.,  21.,  32.,  16.,  10.,   6.,   5.,   9.,   3.,   4.,   3.,\n",
              "          1.,   2.,   0.,   0.,   3.,   3.,   2.,   0.,   0.,   1.,   2.,\n",
              "          1.,   1.,   1.,   0.,   1.,   0.,   1.,   1.,   0.,   0.,   0.,\n",
              "          0.,   1.,   0.,   1.,   0.,   1.]),\n",
              " array([0.00959606, 0.01244776, 0.01529946, 0.01815116, 0.02100286,\n",
              "        0.02385456, 0.02670626, 0.02955796, 0.03240966, 0.03526136,\n",
              "        0.03811306, 0.04096476, 0.04381646, 0.04666816, 0.04951986,\n",
              "        0.05237156, 0.05522326, 0.05807496, 0.06092666, 0.06377836,\n",
              "        0.06663006, 0.06948176, 0.07233346, 0.07518516, 0.07803686,\n",
              "        0.08088856, 0.08374026, 0.08659196, 0.08944366, 0.09229536,\n",
              "        0.09514706, 0.09799876, 0.10085046, 0.10370216, 0.10655386,\n",
              "        0.10940556, 0.11225726, 0.11510896, 0.11796066, 0.12081236,\n",
              "        0.12366406, 0.12651576, 0.12936746, 0.13221916, 0.13507086,\n",
              "        0.13792256, 0.14077426, 0.14362596, 0.14647766, 0.14932936,\n",
              "        0.15218106]),\n",
              " <BarContainer object of 50 artists>)"
            ]
          },
          "metadata": {},
          "execution_count": 39
        },
        {
          "output_type": "display_data",
          "data": {
            "text/plain": [
              "<Figure size 640x480 with 1 Axes>"
            ],
            "image/png": "[encoded data removed]"
          },
          "metadata": {}
        }
      ]
    },
    {
      "cell_type": "code",
      "source": [
        "train_loss.shape"
      ],
      "metadata": {
        "id": "LcFQU42_1XWU",
        "colab": {
          "base_uri": "https://localhost:8080/"
        },
        "outputId": "e20ed11c-69b7-444c-e7c0-ed3f7083bcd3"
      },
      "execution_count": 40,
      "outputs": [
        {
          "output_type": "execute_result",
          "data": {
            "text/plain": [
              "TensorShape([2361])"
            ]
          },
          "metadata": {},
          "execution_count": 40
        }
      ]
    },
    {
      "cell_type": "code",
      "source": [
        "np.mean(train_loss)"
      ],
      "metadata": {
        "id": "0ue77fO-erpp",
        "colab": {
          "base_uri": "https://localhost:8080/"
        },
        "outputId": "2f56bcb8-95f3-4e94-cd72-2bc7a67eebb1"
      },
      "execution_count": 41,
      "outputs": [
        {
          "output_type": "execute_result",
          "data": {
            "text/plain": [
              "0.025318233172224116"
            ]
          },
          "metadata": {},
          "execution_count": 41
        }
      ]
    },
    {
      "cell_type": "code",
      "source": [
        "np.std(train_loss)"
      ],
      "metadata": {
        "id": "DKizB3hxdmWq",
        "colab": {
          "base_uri": "https://localhost:8080/"
        },
        "outputId": "f6a69da1-180f-408b-9175-8e3f816e4f87"
      },
      "execution_count": 45,
      "outputs": [
        {
          "output_type": "execute_result",
          "data": {
            "text/plain": [
              "0.012295050141873149"
            ]
          },
          "metadata": {},
          "execution_count": 45
        }
      ]
    },
    {
      "cell_type": "code",
      "source": [],
      "metadata": {
        "id": "C72wdQqvtscz"
      },
      "execution_count": null,
      "outputs": []
    },
    {
      "cell_type": "code",
      "source": [
        "#threshold = np.mean(train_loss) + 2*np.std(train_loss)"
      ],
      "metadata": {
        "id": "vRuilX2bfpWk"
      },
      "execution_count": 43,
      "outputs": []
    },
    {
      "cell_type": "code",
      "source": [
        "threshold = np.percentile(train_loss, 96.7)\n",
        "threshold\n",
        "#so anything below threshold, the data is going to be normal and anything above, the data will be not normal"
      ],
      "metadata": {
        "id": "rndCw0VVfqSm",
        "colab": {
          "base_uri": "https://localhost:8080/"
        },
        "outputId": "6b810ab4-640a-4969-fc61-6dbf88ce96cb"
      },
      "execution_count": 49,
      "outputs": [
        {
          "output_type": "execute_result",
          "data": {
            "text/plain": [
              "0.04962768450907391"
            ]
          },
          "metadata": {},
          "execution_count": 49
        }
      ]
    },
    {
      "cell_type": "code",
      "source": [
        "reconstruction_a = model.predict(anomally_test_data)\n",
        "train_loss_a = tf.keras.losses.mae(reconstruction_a, anomally_test_data)\n",
        "\n",
        "plt.hist(train_loss_a, bins=50)"
      ],
      "metadata": {
        "id": "0CKxwlc6fqb1",
        "colab": {
          "base_uri": "https://localhost:8080/",
          "height": 742
        },
        "outputId": "6accadb1-ba0e-40d2-e3aa-3d28330c5525"
      },
      "execution_count": 50,
      "outputs": [
        {
          "output_type": "stream",
          "name": "stdout",
          "text": [
            "52/52 [==============================] - 0s 815us/step\n"
          ]
        },
        {
          "output_type": "execute_result",
          "data": {
            "text/plain": [
              "(array([  2.,   0.,   1.,   2.,   3.,   8.,  14.,  13.,  10.,  11.,   8.,\n",
              "         10.,  13.,  27.,  64.,  75., 126., 157., 190., 207., 185., 139.,\n",
              "        140.,  94.,  54.,  33.,  12.,   5.,   5.,   3.,   9.,   1.,   0.,\n",
              "          1.,   2.,   3.,   0.,   3.,   3.,   1.,   0.,   1.,   0.,   1.,\n",
              "          0.,   0.,   1.,   0.,   0.,   2.]),\n",
              " array([0.01663232, 0.02001971, 0.0234071 , 0.0267945 , 0.03018189,\n",
              "        0.03356928, 0.03695667, 0.04034406, 0.04373145, 0.04711884,\n",
              "        0.05050623, 0.05389362, 0.05728101, 0.0606684 , 0.06405579,\n",
              "        0.06744319, 0.07083058, 0.07421797, 0.07760536, 0.08099275,\n",
              "        0.08438014, 0.08776753, 0.09115492, 0.09454231, 0.0979297 ,\n",
              "        0.10131709, 0.10470448, 0.10809188, 0.11147927, 0.11486666,\n",
              "        0.11825405, 0.12164144, 0.12502883, 0.12841622, 0.13180361,\n",
              "        0.135191  , 0.13857839, 0.14196578, 0.14535317, 0.14874056,\n",
              "        0.15212796, 0.15551535, 0.15890274, 0.16229013, 0.16567752,\n",
              "        0.16906491, 0.1724523 , 0.17583969, 0.17922708, 0.18261447,\n",
              "        0.18600186]),\n",
              " <BarContainer object of 50 artists>)"
            ]
          },
          "metadata": {},
          "execution_count": 50
        },
        {
          "output_type": "display_data",
          "data": {
            "text/plain": [
              "<Figure size 640x480 with 1 Axes>"
            ],
            "image/png": "[encoded data removed]"
          },
          "metadata": {}
        }
      ]
    },
    {
      "cell_type": "code",
      "source": [
        "plt.hist(train_loss, bins = 50, label='normal')\n",
        "plt.hist(train_loss_a, bins = 50, label='anomally')\n",
        "plt.axvline(threshold, color = 'r', linewidth = 3, linestyle = 'dashed', label= '{:0.3f}'.format(threshold))\n",
        "plt.legend(loc = 'upper right')\n",
        "plt.show()"
      ],
      "metadata": {
        "id": "P9hJpl1pg4HY",
        "colab": {
          "base_uri": "https://localhost:8080/",
          "height": 430
        },
        "outputId": "09e1b291-2c1b-4dcb-8a09-c18460a73b9b"
      },
      "execution_count": 51,
      "outputs": [
        {
          "output_type": "display_data",
          "data": {
            "text/plain": [
              "<Figure size 640x480 with 1 Axes>"
            ],
            "image/png": "[encoded data removed]"
          },
          "metadata": {}
        }
      ]
    },
    {
      "cell_type": "code",
      "source": [
        "np.mean(train_loss_a)\n"
      ],
      "metadata": {
        "id": "pmU4SnpSgR3Q",
        "colab": {
          "base_uri": "https://localhost:8080/"
        },
        "outputId": "5e4b5778-74be-4a97-f547-852f63a2ea7c"
      },
      "execution_count": 52,
      "outputs": [
        {
          "output_type": "execute_result",
          "data": {
            "text/plain": [
              "0.08201624116985817"
            ]
          },
          "metadata": {},
          "execution_count": 52
        }
      ]
    },
    {
      "cell_type": "code",
      "source": [
        "np.std(train_loss_a)"
      ],
      "metadata": {
        "id": "Kg_4nuzfiNuO",
        "colab": {
          "base_uri": "https://localhost:8080/"
        },
        "outputId": "a6400c18-2687-44c0-acb7-b8defec9c31b"
      },
      "execution_count": 53,
      "outputs": [
        {
          "output_type": "execute_result",
          "data": {
            "text/plain": [
              "0.015469099858573587"
            ]
          },
          "metadata": {},
          "execution_count": 53
        }
      ]
    },
    {
      "cell_type": "code",
      "source": [
        "threshold_a = np.mean(train_loss) + 2*np.std(train_loss)\n",
        "threshold_a"
      ],
      "metadata": {
        "id": "4C01RA_lgRzW",
        "colab": {
          "base_uri": "https://localhost:8080/"
        },
        "outputId": "8c1e5038-0048-432a-de04-75248046c2f6"
      },
      "execution_count": 54,
      "outputs": [
        {
          "output_type": "execute_result",
          "data": {
            "text/plain": [
              "0.04990833345597041"
            ]
          },
          "metadata": {},
          "execution_count": 54
        }
      ]
    },
    {
      "cell_type": "code",
      "source": [
        "#now let's see how well the model performed\n",
        "tf.math.less(train_loss, threshold)"
      ],
      "metadata": {
        "id": "AjssTL7pgRu5",
        "colab": {
          "base_uri": "https://localhost:8080/"
        },
        "outputId": "7e192511-72cb-4ff6-e822-021c64383ec8"
      },
      "execution_count": 55,
      "outputs": [
        {
          "output_type": "execute_result",
          "data": {
            "text/plain": [
              "<tf.Tensor: shape=(2361,), dtype=bool, numpy=array([False,  True,  True, ...,  True,  True,  True])>"
            ]
          },
          "metadata": {},
          "execution_count": 55
        }
      ]
    },
    {
      "cell_type": "code",
      "source": [
        "preds = tf.math.less(train_loss, threshold)"
      ],
      "metadata": {
        "id": "Nl5sAuIRgRoE"
      },
      "execution_count": 56,
      "outputs": []
    },
    {
      "cell_type": "code",
      "source": [
        "tf.math.count_nonzero(preds)\n",
        "#2272 were predicted correctly of the 2356\n",
        "#so about 96% accuracy"
      ],
      "metadata": {
        "id": "wUk8x0L0iqQI",
        "colab": {
          "base_uri": "https://localhost:8080/"
        },
        "outputId": "ec760890-65d4-4c72-bec6-6c5e4297c1c4"
      },
      "execution_count": 57,
      "outputs": [
        {
          "output_type": "execute_result",
          "data": {
            "text/plain": [
              "<tf.Tensor: shape=(), dtype=int64, numpy=2283>"
            ]
          },
          "metadata": {},
          "execution_count": 57
        }
      ]
    },
    {
      "cell_type": "code",
      "source": [
        "preds.shape"
      ],
      "metadata": {
        "id": "5wI_-PwgiqUO",
        "colab": {
          "base_uri": "https://localhost:8080/"
        },
        "outputId": "831c3beb-0c3e-4cdf-b33c-05d0e1c13286"
      },
      "execution_count": 58,
      "outputs": [
        {
          "output_type": "execute_result",
          "data": {
            "text/plain": [
              "TensorShape([2361])"
            ]
          },
          "metadata": {},
          "execution_count": 58
        }
      ]
    },
    {
      "cell_type": "code",
      "source": [
        "preds_a = tf.math.greater(train_loss_a, threshold_a)"
      ],
      "metadata": {
        "id": "ULvNypQJiqbu"
      },
      "execution_count": 59,
      "outputs": []
    },
    {
      "cell_type": "code",
      "source": [
        "tf.math.count_nonzero(preds_a)\n",
        "#so about 1619 were predicted correctly of the 1644\n",
        "# the accuracy is about 98% to get the anomally"
      ],
      "metadata": {
        "id": "HOZturxFjxFy",
        "colab": {
          "base_uri": "https://localhost:8080/"
        },
        "outputId": "213dd979-16f4-40d7-a442-37ebe7f6fd0e"
      },
      "execution_count": 60,
      "outputs": [
        {
          "output_type": "execute_result",
          "data": {
            "text/plain": [
              "<tf.Tensor: shape=(), dtype=int64, numpy=1578>"
            ]
          },
          "metadata": {},
          "execution_count": 60
        }
      ]
    },
    {
      "cell_type": "code",
      "source": [
        "preds_a.shape"
      ],
      "metadata": {
        "id": "hfASN6aLj6Y9",
        "colab": {
          "base_uri": "https://localhost:8080/"
        },
        "outputId": "2044285d-8f8e-4f45-d4b0-661799a1a27c"
      },
      "execution_count": 61,
      "outputs": [
        {
          "output_type": "execute_result",
          "data": {
            "text/plain": [
              "TensorShape([1639])"
            ]
          },
          "metadata": {},
          "execution_count": 61
        }
      ]
    }
  ]
}